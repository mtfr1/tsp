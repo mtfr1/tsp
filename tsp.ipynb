{
 "cells": [
  {
   "cell_type": "code",
   "execution_count": 1,
   "metadata": {},
   "outputs": [],
   "source": [
    "import numpy as np\n",
    "import networkx as nx\n",
    "import random\n",
    "import matplotlib.pyplot as plt"
   ]
  },
  {
   "cell_type": "markdown",
   "metadata": {},
   "source": [
    "### Geração de instâncias"
   ]
  },
  {
   "cell_type": "code",
   "execution_count": 2,
   "metadata": {},
   "outputs": [],
   "source": [
    "def gen_points(two_power, minimo=0, maximo=100):\n",
    "    points = []\n",
    "    for i in range(2**two_power):\n",
    "        point = np.random.randint(minimo, maximo, 2)\n",
    "        points.append(point)\n",
    "    return points\n",
    "\n",
    "def euclid_dist(points):\n",
    "    edges = []\n",
    "    for i in range(len(points)):\n",
    "        for j in range(len(points)):\n",
    "            if i != j:\n",
    "                edges.append([i, j, int(abs(np.linalg.norm(points[i]-points[j])))])\n",
    "    return edges\n",
    "\n",
    "def manhattan_dist(points):\n",
    "    edges = []\n",
    "    for i in range(len(points)):\n",
    "        for j in range(i+1, len(points)):\n",
    "            dist = np.abs(points[i] - points[j]).sum()\n",
    "            edges.append((i, j, dist))        \n",
    "    return edges\n",
    "\n",
    "\n",
    "def create_graph(n, dist):\n",
    "    G = nx.Graph()\n",
    "    points = gen_points(n)\n",
    "    edges = dist(points)\n",
    "    G.add_weighted_edges_from(edges)\n",
    "    return G"
   ]
  },
  {
   "cell_type": "code",
   "execution_count": 3,
   "metadata": {},
   "outputs": [
    {
     "name": "stderr",
     "output_type": "stream",
     "text": [
      "/home/mateus/anaconda3/lib/python3.7/site-packages/networkx/drawing/nx_pylab.py:563: MatplotlibDeprecationWarning: \n",
      "The iterable function was deprecated in Matplotlib 3.1 and will be removed in 3.3. Use np.iterable instead.\n",
      "  if not cb.iterable(width):\n",
      "/home/mateus/anaconda3/lib/python3.7/site-packages/networkx/drawing/nx_pylab.py:611: MatplotlibDeprecationWarning: \n",
      "The is_numlike function was deprecated in Matplotlib 3.0 and will be removed in 3.2. Use isinstance(..., numbers.Number) instead.\n",
      "  if cb.is_numlike(alpha):\n"
     ]
    },
    {
     "data": {
      "image/png": "[encoded data removed]",
      "text/plain": [
       "<Figure size 432x288 with 1 Axes>"
      ]
     },
     "metadata": {},
     "output_type": "display_data"
    }
   ],
   "source": [
    "def plot_graph(G):\n",
    "    plt.figure(figsize=(8,8)) \n",
    "    \n",
    "    layout = nx.spring_layout(G)\n",
    "    nx.draw_networkx(G, pos=layout)\n",
    "    labels = nx.get_edge_attributes(G,'weight')\n",
    "    nx.draw_networkx_edge_labels(G,layout,edge_labels=labels)\n",
    "    plt.show()\n",
    "\n",
    "G = create_graph(2, euclid_dist)\n",
    "nx.draw(G)"
   ]
  },
  {
   "cell_type": "code",
   "execution_count": 4,
   "metadata": {},
   "outputs": [],
   "source": [
    "def cost(nodes, G):\n",
    "    ret = 0\n",
    "    for i in range(len(nodes)-1):\n",
    "        u, v = nodes[i], nodes[i+1]\n",
    "        ret += G[u][v]['weight']\n",
    "    return ret"
   ]
  },
  {
   "cell_type": "code",
   "execution_count": 5,
   "metadata": {},
   "outputs": [],
   "source": [
    "def twice_around(graph):\n",
    "    G = graph.copy()\n",
    "    \n",
    "    # computar a arvore geradora mínima e adicionar os nós com um caminhamento pré-ordem\n",
    "    mst = nx.minimum_spanning_tree(G)\n",
    "    nodes = list(nx.dfs_preorder_nodes(mst, source=0))\n",
    "    nodes.append(0)\n",
    "    return nodes, cost(nodes, graph)"
   ]
  },
  {
   "cell_type": "code",
   "execution_count": 6,
   "metadata": {},
   "outputs": [
    {
     "data": {
      "text/plain": [
       "56"
      ]
     },
     "execution_count": 6,
     "metadata": {},
     "output_type": "execute_result"
    }
   ],
   "source": [
    "nodes, sol = twice_around(G)\n",
    "\n",
    "sol"
   ]
  },
  {
   "cell_type": "code",
   "execution_count": 7,
   "metadata": {},
   "outputs": [],
   "source": [
    "def christofides(graph):\n",
    "    G = graph.copy()\n",
    "    mst = nx.minimum_spanning_tree(G)\n",
    "    odd_nodes = [node for node in mst if mst.degree(node) % 2 == 1]\n",
    "    \n",
    "    induced_graph = G.subgraph(odd_nodes)\n",
    "    \n",
    "    # transformar arestas do grafo para pegar o matching mínimo perfeito, como a funcão do\n",
    "    # network x encontra o matching máximo, multiplicar as arestas por -1 encontra o mínimo. \n",
    "    u, v = list(induced_graph.edges())[0]\n",
    "    for (u, v) in induced_graph.edges():\n",
    "        induced_graph[u][v]['weight'] *= -1\n",
    "    \n",
    "    # matching mínimo perfeito\n",
    "    matching = nx.max_weight_matching(induced_graph, maxcardinality=True)\n",
    "    matching_graph = G.edge_subgraph(matching)\n",
    "    \n",
    "    # juntar os dois grafos criados a partir da mst e do matching\n",
    "    multigraph = nx.MultiGraph()\n",
    "    multigraph.add_weighted_edges_from(mst.edges.data('weight'))\n",
    "    multigraph.add_weighted_edges_from(matching_graph.edges.data('weight'))\n",
    "    \n",
    "    # circuito euleriano\n",
    "    eulerian = [u for u,v in nx.eulerian_circuit(multigraph, source=0)]\n",
    "    \n",
    "    # remover nós repetidos para formar um circuito hamiltoniano\n",
    "    nodes = []\n",
    "    for node in eulerian:\n",
    "        if node not in nodes:\n",
    "            nodes.append(node)\n",
    "   \n",
    "    # adicionando um node source para fechar o circuito\n",
    "    nodes.append(0)\n",
    "    \n",
    "    return nodes, cost(nodes, graph)"
   ]
  },
  {
   "cell_type": "code",
   "execution_count": 8,
   "metadata": {},
   "outputs": [
    {
     "data": {
      "text/plain": [
       "([0, 2, 1, 3, 0], 56)"
      ]
     },
     "execution_count": 8,
     "metadata": {},
     "output_type": "execute_result"
    }
   ],
   "source": [
    "christofides(G)"
   ]
  },
  {
   "cell_type": "code",
   "execution_count": 9,
   "metadata": {},
   "outputs": [
    {
     "data": {
      "text/plain": [
       "([0, 3, 1, 2, 0], 56)"
      ]
     },
     "execution_count": 9,
     "metadata": {},
     "output_type": "execute_result"
    }
   ],
   "source": [
    "twice_around(G)"
   ]
  },
  {
   "cell_type": "code",
   "execution_count": null,
   "metadata": {},
   "outputs": [],
   "source": []
  }
 ],
 "metadata": {
  "kernelspec": {
   "display_name": "Python 3",
   "language": "python",
   "name": "python3"
  },
  "language_info": {
   "codemirror_mode": {
    "name": "ipython",
    "version": 3
   },
   "file_extension": ".py",
   "mimetype": "text/x-python",
   "name": "python",
   "nbconvert_exporter": "python",
   "pygments_lexer": "ipython3",
   "version": "3.7.3"
  }
 },
 "nbformat": 4,
 "nbformat_minor": 2
}
